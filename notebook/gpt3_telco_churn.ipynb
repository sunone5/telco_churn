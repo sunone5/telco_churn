{
 "cells": [
  {
   "cell_type": "code",
   "execution_count": 1,
   "id": "4035ec02-37cb-491e-bf4d-e48da6fd1af1",
   "metadata": {},
   "outputs": [
    {
     "name": "stdout",
     "output_type": "stream",
     "text": [
      "Requirement already satisfied: openai in d:\\python_projects\\telco_churn\\venv\\lib\\site-packages (1.14.2)\n",
      "Requirement already satisfied: anyio<5,>=3.5.0 in d:\\python_projects\\telco_churn\\venv\\lib\\site-packages (from openai) (4.3.0)\n",
      "Requirement already satisfied: distro<2,>=1.7.0 in d:\\python_projects\\telco_churn\\venv\\lib\\site-packages (from openai) (1.9.0)\n",
      "Requirement already satisfied: httpx<1,>=0.23.0 in d:\\python_projects\\telco_churn\\venv\\lib\\site-packages (from openai) (0.27.0)\n",
      "Requirement already satisfied: pydantic<3,>=1.9.0 in d:\\python_projects\\telco_churn\\venv\\lib\\site-packages (from openai) (2.6.4)\n",
      "Requirement already satisfied: sniffio in d:\\python_projects\\telco_churn\\venv\\lib\\site-packages (from openai) (1.3.1)\n",
      "Requirement already satisfied: tqdm>4 in d:\\python_projects\\telco_churn\\venv\\lib\\site-packages (from openai) (4.66.2)\n",
      "Requirement already satisfied: typing-extensions<5,>=4.7 in d:\\python_projects\\telco_churn\\venv\\lib\\site-packages (from openai) (4.10.0)\n",
      "Requirement already satisfied: idna>=2.8 in d:\\python_projects\\telco_churn\\venv\\lib\\site-packages (from anyio<5,>=3.5.0->openai) (3.6)\n",
      "Requirement already satisfied: certifi in d:\\python_projects\\telco_churn\\venv\\lib\\site-packages (from httpx<1,>=0.23.0->openai) (2024.2.2)\n",
      "Requirement already satisfied: httpcore==1.* in d:\\python_projects\\telco_churn\\venv\\lib\\site-packages (from httpx<1,>=0.23.0->openai) (1.0.4)\n",
      "Requirement already satisfied: h11<0.15,>=0.13 in d:\\python_projects\\telco_churn\\venv\\lib\\site-packages (from httpcore==1.*->httpx<1,>=0.23.0->openai) (0.14.0)\n",
      "Requirement already satisfied: annotated-types>=0.4.0 in d:\\python_projects\\telco_churn\\venv\\lib\\site-packages (from pydantic<3,>=1.9.0->openai) (0.6.0)\n",
      "Requirement already satisfied: pydantic-core==2.16.3 in d:\\python_projects\\telco_churn\\venv\\lib\\site-packages (from pydantic<3,>=1.9.0->openai) (2.16.3)\n",
      "Requirement already satisfied: colorama in d:\\python_projects\\telco_churn\\venv\\lib\\site-packages (from tqdm>4->openai) (0.4.6)\n"
     ]
    }
   ],
   "source": [
    "!pip install openai"
   ]
  },
  {
   "cell_type": "code",
   "execution_count": null,
   "id": "5aec3844-5e5c-4c4d-a74c-4a21198c9050",
   "metadata": {},
   "outputs": [],
   "source": [
    "import joblib\n",
    "import openai\n",
    "\n",
    "# Load the churn predictions model\n",
    "churn_model = joblib.load(\"./../models/model.joblib\")\n",
    "\n",
    "# Set up the OpenAI API credentials\n",
    "openai.api_key = \"YOUR_KEY\"\n",
    "\n",
    "# Function to generate personalized retention incentives\n",
    "def generate_retention_incentives(customer_data):\n",
    "    # Make churn prediction using the churn model\n",
    "    churn_probability = churn_model.predict_proba(customer_data)[0][1]\n",
    "\n",
    "    # Generate personalized retention incentive using OpenAI GPT-3.5 Turbo\n",
    "    prompt = f\"Customer churn probability: {churn_probability}\\nCustomer data: {customer_data}\\nGenerate personalized retention incentive:\"\n",
    "\n",
    "    response = openai.Completion.create(\n",
    "        engine=\"gpt-3.5-turbo-instruct\",\n",
    "        prompt=prompt,\n",
    "        max_tokens=100,\n",
    "        n=1,\n",
    "        stop=None,\n",
    "        temperature=0.5,\n",
    "        top_p=1.0,\n",
    "        frequency_penalty=0.0,\n",
    "        presence_penalty=0.0,\n",
    "    )\n",
    "\n",
    "    retention_incentive = response.choices[0].text.strip()\n",
    "\n",
    "    return retention_incentive\n",
    "\n",
    "# Example usage\n",
    "customer_data = {\n",
    "    \"age\": 30,\n",
    "    \"gender\": \"male\",\n",
    "    \"purchase_history\": [\"product1\", \"product2\", \"product3\"],\n",
    "    # Include other relevant customer data\n",
    "}\n",
    "\n",
    "incentive = generate_retention_incentives(customer_data)\n",
    "print(\"Retention Incentive:\")\n",
    "print(incentive)"
   ]
  },
  {
   "cell_type": "code",
   "execution_count": null,
   "id": "fd0fb50e-3a35-43aa-859b-c6e7bff72207",
   "metadata": {},
   "outputs": [],
   "source": []
  }
 ],
 "metadata": {
  "kernelspec": {
   "display_name": "Python 3 (ipykernel)",
   "language": "python",
   "name": "python3"
  },
  "language_info": {
   "codemirror_mode": {
    "name": "ipython",
    "version": 3
   },
   "file_extension": ".py",
   "mimetype": "text/x-python",
   "name": "python",
   "nbconvert_exporter": "python",
   "pygments_lexer": "ipython3",
   "version": "3.11.1"
  }
 },
 "nbformat": 4,
 "nbformat_minor": 5
}
